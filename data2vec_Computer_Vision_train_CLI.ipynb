{
  "nbformat": 4,
  "nbformat_minor": 0,
  "metadata": {
    "colab": {
      "provenance": [],
      "collapsed_sections": []
    },
    "kernelspec": {
      "name": "python3",
      "display_name": "Python 3"
    },
    "language_info": {
      "name": "python"
    },
    "accelerator": "GPU"
  },
  "cells": [
    {
      "cell_type": "markdown",
      "source": [
        "# Data2Vec - Computer Vision"
      ],
      "metadata": {
        "id": "o99NE_c-HIvi"
      }
    },
    {
      "cell_type": "code",
      "execution_count": null,
      "metadata": {
        "id": "SBdpdeKeP7ax"
      },
      "outputs": [],
      "source": [
        "import torch\n",
        "import torch.nn as nn\n",
        "import torchvision.transforms.functional as F\n",
        "import torchvision.transforms as T\n",
        "\n",
        "import matplotlib.pyplot as plt\n",
        "\n",
        "import copy\n",
        "import math\n",
        "import random\n",
        "from typing import *\n",
        "from pathlib import Path\n",
        "\n",
        "from PIL import Image"
      ]
    },
    {
      "cell_type": "markdown",
      "source": [
        "## Download sample data"
      ],
      "metadata": {
        "id": "NTFk4VbJEvdp"
      }
    },
    {
      "cell_type": "code",
      "source": [
        "!git clone https://github.com/Guillem96/optc-box-exporter\n",
        "!git clone https://github.com/Guillem96/data2vec-vision"
      ],
      "metadata": {
        "id": "HV8qy5wVEuC4",
        "colab": {
          "base_uri": "https://localhost:8080/"
        },
        "outputId": "bc575e02-0ac2-49a8-f787-118d3e1fccdc"
      },
      "execution_count": null,
      "outputs": [
        {
          "output_type": "stream",
          "name": "stdout",
          "text": [
            "Cloning into 'optc-box-exporter'...\n",
            "remote: Enumerating objects: 240, done.\u001b[K\n",
            "remote: Counting objects: 100% (240/240), done.\u001b[K\n",
            "remote: Compressing objects: 100% (155/155), done.\u001b[K\n",
            "remote: Total 240 (delta 120), reused 183 (delta 77), pack-reused 0\u001b[K\n",
            "Receiving objects: 100% (240/240), 6.83 MiB | 26.02 MiB/s, done.\n",
            "Resolving deltas: 100% (120/120), done.\n",
            "Cloning into 'data2vec-vision'...\n",
            "remote: Enumerating objects: 33, done.\u001b[K\n",
            "remote: Counting objects: 100% (33/33), done.\u001b[K\n",
            "remote: Compressing objects: 100% (28/28), done.\u001b[K\n",
            "remote: Total 33 (delta 3), reused 18 (delta 0), pack-reused 0\u001b[K\n",
            "Unpacking objects: 100% (33/33), done.\n"
          ]
        }
      ]
    },
    {
      "cell_type": "code",
      "source": [
        "%%shell\n",
        "cd optc-box-exporter/\n",
        "python -m optcbx download-portraits \\\n",
        "    --units data/units.json \\\n",
        "    --output data/Portraits"
      ],
      "metadata": {
        "id": "MElLDMUlE36r",
        "colab": {
          "base_uri": "https://localhost:8080/"
        },
        "outputId": "ad603625-dc7e-4426-ee58-22055d3b5a5a"
      },
      "execution_count": null,
      "outputs": [
        {
          "output_type": "stream",
          "name": "stdout",
          "text": [
            " 14% 572/3957 [01:07<06:09,  9.17it/s]Error while downloading: https://onepiece-treasurecruise.com/wp-content/uploads/f0574.png\n",
            " 15% 574/3957 [01:07<07:37,  7.40it/s]Error while downloading: https://onepiece-treasurecruise.com/wp-content/uploads/f0575.png\n",
            " 79% 3114/3957 [06:59<00:19, 43.96it/s]Error while downloading: https://optc-db.github.io/res/sadBandai/character_11_t1.png\n",
            " 80% 3146/3957 [06:59<00:15, 53.23it/s]Error while downloading: https://optc-db.github.io/res/sadBandai/character_11_t1.png\n",
            "Error while downloading: https://optc-db.github.io/res/sadBandai/character_11_t1.png\n",
            "Error while downloading: https://optc-db.github.io/res/sadBandai/character_11_t1.png\n",
            "Error while downloading: https://optc-db.github.io/res/sadBandai/character_11_t1.png\n",
            " 80% 3152/3957 [06:59<00:16, 47.70it/s]Error while downloading: https://optc-db.github.io/res/sadBandai/character_11_t1.png\n",
            " 89% 3541/3957 [07:50<00:50,  8.22it/s]Error while downloading: https://onepiece-treasurecruise.com/wp-content/uploads/f4986.png\n",
            "Error while downloading: https://onepiece-treasurecruise.com/wp-content/uploads/f4987.png\n",
            "Error while downloading: https://onepiece-treasurecruise.com/wp-content/uploads/f4988.png\n",
            "Error while downloading: https://onepiece-treasurecruise.com/wp-content/uploads/f4989.png\n",
            "Error while downloading: https://onepiece-treasurecruise.com/wp-content/uploads/f4990.png\n",
            " 90% 3543/3957 [07:50<01:10,  5.84it/s]Error while downloading: https://onepiece-treasurecruise.com/wp-content/uploads/f4991.png\n",
            " 90% 3549/3957 [07:50<00:42,  9.57it/s]Error while downloading: https://onepiece-treasurecruise.com/wp-content/uploads/f4992.png\n",
            "Error while downloading: https://onepiece-treasurecruise.com/wp-content/uploads/f4993.png\n",
            "Error while downloading: https://onepiece-treasurecruise.com/wp-content/uploads/f4994.png\n",
            " 90% 3551/3957 [07:51<00:53,  7.56it/s]Error while downloading: https://onepiece-treasurecruise.com/wp-content/uploads/f4995.png\n",
            " 90% 3553/3957 [07:51<00:46,  8.69it/s]Error while downloading: https://onepiece-treasurecruise.com/wp-content/uploads/f4996.png\n",
            " 97% 3832/3957 [07:55<00:02, 60.87it/s]Error while downloading: https://onepiece-treasurecruise.com/wp-content/uploads/f5280.png\n",
            "Error while downloading: https://onepiece-treasurecruise.com/wp-content/uploads/f5281.png\n",
            "Error while downloading: https://onepiece-treasurecruise.com/wp-content/uploads/f5279.png\n",
            "Error while downloading: https://onepiece-treasurecruise.com/wp-content/uploads/f5282.png\n",
            "Error while downloading: https://onepiece-treasurecruise.com/wp-content/uploads/f5284.png\n",
            "Error while downloading: https://onepiece-treasurecruise.com/wp-content/uploads/f5283.png\n",
            " 97% 3839/3957 [07:56<00:05, 23.15it/s]Error while downloading: https://onepiece-treasurecruise.com/wp-content/uploads/f5285.png\n",
            "Error while downloading: https://onepiece-treasurecruise.com/wp-content/uploads/f5286.png\n",
            "Error while downloading: https://onepiece-treasurecruise.com/wp-content/uploads/f5288.png\n",
            "Error while downloading: https://onepiece-treasurecruise.com/wp-content/uploads/f5287.png\n",
            "Error while downloading: https://onepiece-treasurecruise.com/wp-content/uploads/f5290.png\n",
            "Error while downloading: https://onepiece-treasurecruise.com/wp-content/uploads/f5291.png\n",
            "Error while downloading: https://onepiece-treasurecruise.com/wp-content/uploads/f5292.png\n",
            "Error while downloading: https://onepiece-treasurecruise.com/wp-content/uploads/f5289.png\n",
            " 97% 3844/3957 [07:57<00:08, 13.35it/s]Error while downloading: https://onepiece-treasurecruise.com/wp-content/uploads/f5293.png\n",
            "Error while downloading: https://onepiece-treasurecruise.com/wp-content/uploads/f5294.png\n",
            "Error while downloading: https://onepiece-treasurecruise.com/wp-content/uploads/f5301.png\n",
            "Error while downloading: https://onepiece-treasurecruise.com/wp-content/uploads/f5302.png\n",
            "Error while downloading: https://onepiece-treasurecruise.com/wp-content/uploads/f5295.png\n",
            " 97% 3850/3957 [07:58<00:10, 10.26it/s]Error while downloading: https://onepiece-treasurecruise.com/wp-content/uploads/f5297.png\n",
            "Error while downloading: https://onepiece-treasurecruise.com/wp-content/uploads/f5296.png\n",
            "Error while downloading: https://onepiece-treasurecruise.com/wp-content/uploads/f5299.png\n",
            "Error while downloading: https://onepiece-treasurecruise.com/wp-content/uploads/f5298.png\n",
            "Error while downloading: https://onepiece-treasurecruise.com/wp-content/uploads/f5300.png\n",
            "Error while downloading: https://onepiece-treasurecruise.com/wp-content/uploads/f5303.png\n",
            " 97% 3858/3957 [07:59<00:10,  9.70it/s]Error while downloading: https://onepiece-treasurecruise.com/wp-content/uploads/f5304.png\n",
            "Error while downloading: https://onepiece-treasurecruise.com/wp-content/uploads/f5308.png\n",
            "Error while downloading: https://onepiece-treasurecruise.com/wp-content/uploads/f5309.png\n",
            "Error while downloading: https://onepiece-treasurecruise.com/wp-content/uploads/f5305.png\n",
            "Error while downloading: https://onepiece-treasurecruise.com/wp-content/uploads/f5307.png\n",
            "Error while downloading: https://onepiece-treasurecruise.com/wp-content/uploads/f5306.png\n",
            "Error while downloading: https://onepiece-treasurecruise.com/wp-content/uploads/f5310.png\n",
            "Error while downloading: https://onepiece-treasurecruise.com/wp-content/uploads/f5311.png\n",
            " 98% 3866/3957 [08:00<00:09,  9.29it/s]Error while downloading: https://onepiece-treasurecruise.com/wp-content/uploads/f5313.png\n",
            "Error while downloading: https://onepiece-treasurecruise.com/wp-content/uploads/f5312.png\n",
            "Error while downloading: https://onepiece-treasurecruise.com/wp-content/uploads/f5315.png\n",
            "Error while downloading: https://onepiece-treasurecruise.com/wp-content/uploads/f5314.png\n",
            "Error while downloading: https://onepiece-treasurecruise.com/wp-content/uploads/f5316.png\n",
            "Error while downloading: https://onepiece-treasurecruise.com/wp-content/uploads/f5317.png\n",
            "Error while downloading: https://onepiece-treasurecruise.com/wp-content/uploads/f5318.png\n",
            "Error while downloading: https://onepiece-treasurecruise.com/wp-content/uploads/f5320.png\n",
            "Error while downloading: https://onepiece-treasurecruise.com/wp-content/uploads/f5321.png\n",
            "Error while downloading: https://onepiece-treasurecruise.com/wp-content/uploads/f5319.png\n",
            " 98% 3874/3957 [08:01<00:09,  9.09it/s]Error while downloading: https://onepiece-treasurecruise.com/wp-content/uploads/f5324.png\n",
            "Error while downloading: https://onepiece-treasurecruise.com/wp-content/uploads/f5325.png\n",
            "Error while downloading: https://onepiece-treasurecruise.com/wp-content/uploads/f5322.png\n",
            "Error while downloading: https://onepiece-treasurecruise.com/wp-content/uploads/f5326.png\n",
            "Error while downloading: https://onepiece-treasurecruise.com/wp-content/uploads/f5323.png\n",
            "Error while downloading: https://onepiece-treasurecruise.com/wp-content/uploads/f5328.png\n",
            "Error while downloading: https://onepiece-treasurecruise.com/wp-content/uploads/f5327.png\n",
            " 98% 3882/3957 [08:02<00:08,  8.99it/s]Error while downloading: https://onepiece-treasurecruise.com/wp-content/uploads/f5329.png\n",
            "Error while downloading: https://onepiece-treasurecruise.com/wp-content/uploads/f5334.png\n",
            "Error while downloading: https://onepiece-treasurecruise.com/wp-content/uploads/f5332.png\n",
            "Error while downloading: https://onepiece-treasurecruise.com/wp-content/uploads/f5330.png\n",
            "Error while downloading: https://onepiece-treasurecruise.com/wp-content/uploads/f5331.png\n",
            "Error while downloading: https://onepiece-treasurecruise.com/wp-content/uploads/f5333.png\n",
            "Error while downloading: https://onepiece-treasurecruise.com/wp-content/uploads/f5337.png\n",
            "Error while downloading: https://onepiece-treasurecruise.com/wp-content/uploads/f5335.png\n",
            "Error while downloading: https://onepiece-treasurecruise.com/wp-content/uploads/f5336.png\n",
            " 98% 3890/3957 [08:03<00:07,  8.88it/s]Error while downloading: https://onepiece-treasurecruise.com/wp-content/uploads/f5339.png\n",
            "Error while downloading: https://onepiece-treasurecruise.com/wp-content/uploads/f5342.png\n",
            "Error while downloading: https://onepiece-treasurecruise.com/wp-content/uploads/f5340.png\n",
            "Error while downloading: https://onepiece-treasurecruise.com/wp-content/uploads/f5341.png\n",
            "Error while downloading: https://onepiece-treasurecruise.com/wp-content/uploads/f5338.png\n",
            "Error while downloading: https://onepiece-treasurecruise.com/wp-content/uploads/f5343.png\n",
            " 99% 3898/3957 [08:04<00:06,  8.87it/s]Error while downloading: https://onepiece-treasurecruise.com/wp-content/uploads/f5344.png\n",
            "Error while downloading: https://onepiece-treasurecruise.com/wp-content/uploads/f5345.png\n",
            "Error while downloading: https://onepiece-treasurecruise.com/wp-content/uploads/f5348.png\n",
            "Error while downloading: https://onepiece-treasurecruise.com/wp-content/uploads/f5350.png\n",
            "Error while downloading: https://onepiece-treasurecruise.com/wp-content/uploads/f5349.png\n",
            "Error while downloading: https://onepiece-treasurecruise.com/wp-content/uploads/f5346.png\n",
            "Error while downloading: https://onepiece-treasurecruise.com/wp-content/uploads/f5347.png\n",
            " 99% 3901/3957 [08:04<00:05,  9.81it/s]Error while downloading: https://onepiece-treasurecruise.com/wp-content/uploads/f5351.png\n",
            " 99% 3906/3957 [08:05<00:05,  8.61it/s]Error while downloading: https://onepiece-treasurecruise.com/wp-content/uploads/f5352.png\n",
            "Error while downloading: https://onepiece-treasurecruise.com/wp-content/uploads/f5353.png\n",
            "Error while downloading: https://onepiece-treasurecruise.com/wp-content/uploads/f5355.png\n",
            "Error while downloading: https://onepiece-treasurecruise.com/wp-content/uploads/f5354.png\n",
            " 99% 3909/3957 [08:05<00:04,  9.74it/s]Error while downloading: https://onepiece-treasurecruise.com/wp-content/uploads/f5356.png\n",
            "Error while downloading: https://onepiece-treasurecruise.com/wp-content/uploads/f5357.png\n",
            "Error while downloading: https://onepiece-treasurecruise.com/wp-content/uploads/f5358.png\n",
            "Error while downloading: https://onepiece-treasurecruise.com/wp-content/uploads/f5359.png\n",
            " 99% 3914/3957 [08:05<00:05,  8.39it/s]Error while downloading: https://onepiece-treasurecruise.com/wp-content/uploads/f5361.png\n",
            "Error while downloading: https://onepiece-treasurecruise.com/wp-content/uploads/f5360.png\n",
            "Error while downloading: https://onepiece-treasurecruise.com/wp-content/uploads/f5362.png\n",
            " 99% 3917/3957 [08:06<00:04,  9.79it/s]Error while downloading: https://onepiece-treasurecruise.com/wp-content/uploads/f5363.png\n",
            "Error while downloading: https://onepiece-treasurecruise.com/wp-content/uploads/f5364.png\n",
            "Error while downloading: https://onepiece-treasurecruise.com/wp-content/uploads/f5366.png\n",
            "Error while downloading: https://onepiece-treasurecruise.com/wp-content/uploads/f5365.png\n",
            "Error while downloading: https://onepiece-treasurecruise.com/wp-content/uploads/f5367.png\n",
            " 99% 3922/3957 [08:06<00:04,  8.24it/s]Error while downloading: https://onepiece-treasurecruise.com/wp-content/uploads/f5368.png\n",
            "Error while downloading: https://onepiece-treasurecruise.com/wp-content/uploads/f5369.png\n",
            "Error while downloading: https://onepiece-treasurecruise.com/wp-content/uploads/f5370.png\n",
            " 99% 3925/3957 [08:07<00:03,  9.74it/s]Error while downloading: https://onepiece-treasurecruise.com/wp-content/uploads/f5372.png\n",
            "Error while downloading: https://onepiece-treasurecruise.com/wp-content/uploads/f5371.png\n",
            "Error while downloading: https://onepiece-treasurecruise.com/wp-content/uploads/f5373.png\n",
            "Error while downloading: https://onepiece-treasurecruise.com/wp-content/uploads/f5374.png\n",
            "Error while downloading: https://onepiece-treasurecruise.com/wp-content/uploads/f5375.png\n",
            " 99% 3930/3957 [08:07<00:03,  8.14it/s]Error while downloading: https://onepiece-treasurecruise.com/wp-content/uploads/f5376.png\n",
            "Error while downloading: https://onepiece-treasurecruise.com/wp-content/uploads/f5377.png\n",
            "Error while downloading: https://onepiece-treasurecruise.com/wp-content/uploads/f5378.png\n",
            " 99% 3933/3957 [08:07<00:02,  9.73it/s]Error while downloading: https://onepiece-treasurecruise.com/wp-content/uploads/f5379.png\n",
            "Error while downloading: https://onepiece-treasurecruise.com/wp-content/uploads/f5380.png\n",
            "Error while downloading: https://onepiece-treasurecruise.com/wp-content/uploads/f5381.png\n",
            "Error while downloading: https://onepiece-treasurecruise.com/wp-content/uploads/f5382.png\n",
            "Error while downloading: https://onepiece-treasurecruise.com/wp-content/uploads/f5383.png\n",
            "100% 3938/3957 [08:08<00:02,  8.08it/s]Error while downloading: https://onepiece-treasurecruise.com/wp-content/uploads/f5384.png\n",
            "Error while downloading: https://onepiece-treasurecruise.com/wp-content/uploads/f5385.png\n",
            "Error while downloading: https://onepiece-treasurecruise.com/wp-content/uploads/f5387.png\n",
            "Error while downloading: https://onepiece-treasurecruise.com/wp-content/uploads/f5388.png\n",
            "Error while downloading: https://onepiece-treasurecruise.com/wp-content/uploads/f5386.png\n",
            "100% 3941/3957 [08:08<00:01,  9.64it/s]Error while downloading: https://onepiece-treasurecruise.com/wp-content/uploads/f5389.png\n",
            "Error while downloading: https://onepiece-treasurecruise.com/wp-content/uploads/f5390.png\n",
            "Error while downloading: https://onepiece-treasurecruise.com/wp-content/uploads/f5391.png\n",
            "100% 3946/3957 [08:09<00:01,  7.96it/s]Error while downloading: https://onepiece-treasurecruise.com/wp-content/uploads/f5393.png\n",
            "Error while downloading: https://onepiece-treasurecruise.com/wp-content/uploads/f5392.png\n",
            "Error while downloading: https://onepiece-treasurecruise.com/wp-content/uploads/f5394.png\n",
            "100% 3949/3957 [08:09<00:00,  9.54it/s]Error while downloading: https://onepiece-treasurecruise.com/wp-content/uploads/f5395.png\n",
            "Error while downloading: https://onepiece-treasurecruise.com/wp-content/uploads/f5396.png\n",
            "Error while downloading: https://onepiece-treasurecruise.com/wp-content/uploads/f5399.png\n",
            "Error while downloading: https://onepiece-treasurecruise.com/wp-content/uploads/f5400.png\n",
            "Error while downloading: https://onepiece-treasurecruise.com/wp-content/uploads/f5401.png\n",
            "100% 3954/3957 [08:10<00:00,  8.10it/s]Error while downloading: https://onepiece-treasurecruise.com/wp-content/uploads/f5403.png\n",
            "Error while downloading: https://onepiece-treasurecruise.com/wp-content/uploads/f5402.png\n",
            "Error while downloading: https://onepiece-treasurecruise.com/wp-content/uploads/f5404.png\n",
            "100% 3957/3957 [08:10<00:00,  8.06it/s]\n"
          ]
        },
        {
          "output_type": "execute_result",
          "data": {
            "text/plain": [
              ""
            ]
          },
          "metadata": {},
          "execution_count": 5
        }
      ]
    },
    {
      "cell_type": "code",
      "source": [
        "EPOCHS = 200\n",
        "GRAD_ACCUM = 4"
      ],
      "metadata": {
        "id": "ZPsAGZS-vIN3"
      },
      "execution_count": null,
      "outputs": []
    },
    {
      "cell_type": "code",
      "source": [
        "!(cd data2vec-vision && python -m data2vec_vision train \\\n",
        "  /content/optc-box-exporter/data/Portraits \\\n",
        "  --epochs {EPOCHS} --batch-size 16 \\\n",
        "  --grad-accum {GRAD_ACCUM})\n"
      ],
      "metadata": {
        "colab": {
          "base_uri": "https://localhost:8080/"
        },
        "id": "fH_y51t4teSt",
        "outputId": "cb694850-ba20-4788-f5b6-a14f7cf3afef"
      },
      "execution_count": null,
      "outputs": [
        {
          "output_type": "stream",
          "name": "stdout",
          "text": [
            "/usr/local/lib/python3.7/dist-packages/PIL/Image.py:960: UserWarning: Palette images with Transparency expressed in bytes should be converted to RGBA images\n",
            "  \"Palette images with Transparency expressed in bytes should be \"\n",
            "Epoch [0] loss: 45.3897  tau: 0.1015  learning-rate: 4.00e-03\n",
            "Epoch [0] loss: 43.9821  tau: 0.1035  learning-rate: 4.00e-03\n",
            "Epoch [0] loss: 42.3108  tau: 0.1053  learning-rate: 4.01e-03\n",
            "Epoch [0] loss: 41.5593  tau: 0.1073  learning-rate: 4.02e-03\n",
            "Epoch [0] loss: 41.0998  tau: 0.1091  learning-rate: 4.03e-03\n",
            "Epoch [0] loss: 40.5132  tau: 0.1111  learning-rate: 4.04e-03\n",
            "Epoch [0] loss: 39.8140  tau: 0.1128  learning-rate: 4.05e-03\n",
            "Epoch [1] loss: 33.6755  tau: 0.1163  learning-rate: 4.08e-03\n",
            "Epoch [1] loss: 34.0606  tau: 0.1184  learning-rate: 4.10e-03\n",
            "Epoch [1] loss: 34.4998  tau: 0.1201  learning-rate: 4.12e-03\n",
            "Epoch [1] loss: 34.9172  tau: 0.1221  learning-rate: 4.15e-03\n",
            "Epoch [1] loss: 35.2073  tau: 0.1239  learning-rate: 4.17e-03\n",
            "Epoch [1] loss: 35.2185  tau: 0.1259  learning-rate: 4.20e-03\n",
            "Epoch [1] loss: 35.1604  tau: 0.1277  learning-rate: 4.23e-03\n",
            "Epoch [2] loss: 33.0815  tau: 0.1312  learning-rate: 4.30e-03\n",
            "Epoch [2] loss: 33.6078  tau: 0.1332  learning-rate: 4.33e-03\n",
            "Epoch [2] loss: 33.6444  tau: 0.1349  learning-rate: 4.37e-03\n",
            "Epoch [2] loss: 33.4938  tau: 0.1370  learning-rate: 4.41e-03\n",
            "Epoch [2] loss: 33.2646  tau: 0.1387  learning-rate: 4.45e-03\n",
            "Epoch [2] loss: 33.0619  tau: 0.1407  learning-rate: 4.50e-03\n",
            "Epoch [2] loss: 32.9212  tau: 0.1425  learning-rate: 4.55e-03\n",
            "Epoch [3] loss: 32.3166  tau: 0.1460  learning-rate: 4.64e-03\n",
            "Epoch [3] loss: 32.2082  tau: 0.1480  learning-rate: 4.70e-03\n",
            "Epoch [3] loss: 32.2492  tau: 0.1498  learning-rate: 4.75e-03\n",
            "Epoch [3] loss: 32.1425  tau: 0.1518  learning-rate: 4.81e-03\n",
            "Epoch [3] loss: 32.3379  tau: 0.1536  learning-rate: 4.86e-03\n",
            "Epoch [3] loss: 32.2450  tau: 0.1556  learning-rate: 4.93e-03\n",
            "Epoch [3] loss: 32.1516  tau: 0.1573  learning-rate: 4.99e-03\n",
            "Epoch [4] loss: 31.2989  tau: 0.1608  learning-rate: 5.11e-03\n",
            "Epoch [4] loss: 31.0861  tau: 0.1629  learning-rate: 5.19e-03\n",
            "Epoch [4] loss: 31.1552  tau: 0.1646  learning-rate: 5.25e-03\n",
            "Epoch [4] loss: 30.7624  tau: 0.1666  learning-rate: 5.33e-03\n",
            "Epoch [4] loss: 30.6850  tau: 0.1684  learning-rate: 5.40e-03\n",
            "Epoch [4] loss: 30.6656  tau: 0.1704  learning-rate: 5.49e-03\n",
            "Epoch [4] loss: 30.6927  tau: 0.1722  learning-rate: 5.56e-03\n",
            "Epoch [5] loss: 30.0593  tau: 0.1757  learning-rate: 5.71e-03\n",
            "Epoch [5] loss: 29.9788  tau: 0.1777  learning-rate: 5.81e-03\n",
            "Epoch [5] loss: 29.9414  tau: 0.1794  learning-rate: 5.89e-03\n",
            "Epoch [5] loss: 29.6917  tau: 0.1815  learning-rate: 5.98e-03\n",
            "Epoch [5] loss: 29.8551  tau: 0.1832  learning-rate: 6.07e-03\n",
            "Epoch [5] loss: 29.9544  tau: 0.1852  learning-rate: 6.17e-03\n",
            "Epoch [5] loss: 30.1388  tau: 0.1870  learning-rate: 6.26e-03\n",
            "Epoch [6] loss: 31.8629  tau: 0.1905  learning-rate: 6.44e-03\n",
            "Epoch [6] loss: 31.7852  tau: 0.1925  learning-rate: 6.55e-03\n",
            "Epoch [6] loss: 31.9149  tau: 0.1943  learning-rate: 6.65e-03\n",
            "Epoch [6] loss: 32.0624  tau: 0.1963  learning-rate: 6.76e-03\n",
            "Epoch [6] loss: 31.9036  tau: 0.1981  learning-rate: 6.86e-03\n",
            "Epoch [6] loss: 31.8023  tau: 0.2001  learning-rate: 6.98e-03\n",
            "Epoch [6] loss: 31.6524  tau: 0.2018  learning-rate: 7.08e-03\n",
            "Epoch [7] loss: 29.6261  tau: 0.2053  learning-rate: 7.30e-03\n",
            "Epoch [7] loss: 29.4118  tau: 0.2074  learning-rate: 7.42e-03\n",
            "Epoch [7] loss: 29.2268  tau: 0.2091  learning-rate: 7.53e-03\n",
            "Epoch [7] loss: 28.9466  tau: 0.2111  learning-rate: 7.66e-03\n",
            "Epoch [7] loss: 28.7530  tau: 0.2129  learning-rate: 7.78e-03\n",
            "Epoch [7] loss: 28.5274  tau: 0.2149  learning-rate: 7.91e-03\n",
            "Epoch [7] loss: 28.4068  tau: 0.2167  learning-rate: 8.03e-03\n",
            "Epoch [8] loss: 27.6670  tau: 0.2202  learning-rate: 8.27e-03\n",
            "Epoch [8] loss: 27.3449  tau: 0.2222  learning-rate: 8.42e-03\n",
            "Epoch [8] loss: 27.3777  tau: 0.2239  learning-rate: 8.54e-03\n",
            "Epoch [8] loss: 27.4267  tau: 0.2260  learning-rate: 8.69e-03\n",
            "Epoch [8] loss: 27.4374  tau: 0.2277  learning-rate: 8.82e-03\n",
            "Epoch [8] loss: 27.3809  tau: 0.2297  learning-rate: 8.97e-03\n",
            "Epoch [8] loss: 27.3100  tau: 0.2315  learning-rate: 9.10e-03\n",
            "Epoch [9] loss: 27.1976  tau: 0.2350  learning-rate: 9.37e-03\n",
            "Epoch [9] loss: 27.2872  tau: 0.2370  learning-rate: 9.53e-03\n",
            "Epoch [9] loss: 27.2856  tau: 0.2388  learning-rate: 9.67e-03\n",
            "Epoch [9] loss: 27.2501  tau: 0.2408  learning-rate: 9.83e-03\n",
            "Epoch [9] loss: 27.2499  tau: 0.2426  learning-rate: 9.97e-03\n",
            "Epoch [9] loss: 27.3085  tau: 0.2446  learning-rate: 1.01e-02\n",
            "Epoch [9] loss: 27.3751  tau: 0.2463  learning-rate: 1.03e-02\n",
            "Epoch [10] loss: 27.9577  tau: 0.2498  learning-rate: 1.06e-02\n",
            "Epoch [10] loss: 27.9017  tau: 0.2519  learning-rate: 1.08e-02\n",
            "Epoch [10] loss: 27.6520  tau: 0.2536  learning-rate: 1.09e-02\n",
            "Epoch [10] loss: 27.6186  tau: 0.2556  learning-rate: 1.11e-02\n",
            "Epoch [10] loss: 27.4505  tau: 0.2574  learning-rate: 1.12e-02\n",
            "Epoch [10] loss: 27.4723  tau: 0.2594  learning-rate: 1.14e-02\n",
            "Epoch [10] loss: 27.4334  tau: 0.2612  learning-rate: 1.16e-02\n",
            "Epoch [11] loss: 27.5625  tau: 0.2647  learning-rate: 1.19e-02\n",
            "Epoch [11] loss: 27.3780  tau: 0.2667  learning-rate: 1.21e-02\n",
            "Epoch [11] loss: 27.4196  tau: 0.2684  learning-rate: 1.23e-02\n",
            "\n",
            "Aborted!\n"
          ]
        }
      ]
    }
  ]
}